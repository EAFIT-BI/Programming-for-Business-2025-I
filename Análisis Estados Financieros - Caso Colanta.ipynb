{
 "cells": [
  {
   "cell_type": "markdown",
   "id": "722ebcef",
   "metadata": {},
   "source": [
    "# Análisis Estados Financieros - Caso Colanta\n",
    "\n",
    "A continuación se mostrará el análisis de los estados financieros de la Cooperativa Colanta para los años 2019 a 2023"
   ]
  },
  {
   "cell_type": "code",
   "execution_count": 1,
   "id": "040dc574",
   "metadata": {},
   "outputs": [],
   "source": [
    "# Importamos librerías necesarias\n",
    "import pandas as pd\n",
    "import matplotlib.pyplot as plt\n",
    "import numpy as np"
   ]
  },
  {
   "cell_type": "code",
   "execution_count": 2,
   "id": "d805b7af",
   "metadata": {
    "scrolled": true
   },
   "outputs": [],
   "source": [
    "# Cargamos el archivo con los estados financieros\n",
    "archivo = \"Company_financials__1189953.xlsx\"\n",
    "df = pd.read_excel(archivo, header = None)\n",
    "# Visualizamos la información\n",
    "#df.head(15)"
   ]
  },
  {
   "cell_type": "code",
   "execution_count": 3,
   "id": "59fa984d",
   "metadata": {},
   "outputs": [],
   "source": [
    "# Eliminamos las primeras 12 filas que no son informativas\n",
    "df = df.iloc[12:]\n",
    "# Tomamos la primera fila como el nombre de las columnas\n",
    "df.columns = df.iloc[0]\n",
    "# Eliminamos la primera fila para que los nombres no queden repetidos\n",
    "df = df[1:]"
   ]
  },
  {
   "cell_type": "code",
   "execution_count": 4,
   "id": "3bb2f821",
   "metadata": {},
   "outputs": [
    {
     "data": {
      "text/html": [
       "<div>\n",
       "<style scoped>\n",
       "    .dataframe tbody tr th:only-of-type {\n",
       "        vertical-align: middle;\n",
       "    }\n",
       "\n",
       "    .dataframe tbody tr th {\n",
       "        vertical-align: top;\n",
       "    }\n",
       "\n",
       "    .dataframe thead th {\n",
       "        text-align: right;\n",
       "    }\n",
       "</style>\n",
       "<table border=\"1\" class=\"dataframe\">\n",
       "  <thead>\n",
       "    <tr style=\"text-align: right;\">\n",
       "      <th>12</th>\n",
       "      <th>Estado de Resultados</th>\n",
       "      <th>2023</th>\n",
       "      <th>2022</th>\n",
       "      <th>2021</th>\n",
       "      <th>2020</th>\n",
       "      <th>2019</th>\n",
       "    </tr>\n",
       "  </thead>\n",
       "  <tbody>\n",
       "    <tr>\n",
       "      <th>75</th>\n",
       "      <td>Fecha inicial del periodo de reporte</td>\n",
       "      <td>2023-01-01</td>\n",
       "      <td>2023-01-01</td>\n",
       "      <td>2021-01-01</td>\n",
       "      <td>2020-01-01</td>\n",
       "      <td>2019-01-01</td>\n",
       "    </tr>\n",
       "    <tr>\n",
       "      <th>76</th>\n",
       "      <td>Fecha final del período</td>\n",
       "      <td>2023-12-31</td>\n",
       "      <td>2023-12-31</td>\n",
       "      <td>2021-12-31</td>\n",
       "      <td>2020-12-31</td>\n",
       "      <td>2019-12-31</td>\n",
       "    </tr>\n",
       "    <tr>\n",
       "      <th>77</th>\n",
       "      <td>Unidades originales como se reportó</td>\n",
       "      <td>COP Miles</td>\n",
       "      <td>COP Miles</td>\n",
       "      <td>COP Miles</td>\n",
       "      <td>COP Miles</td>\n",
       "      <td>COP Miles</td>\n",
       "    </tr>\n",
       "    <tr>\n",
       "      <th>78</th>\n",
       "      <td>Auditado</td>\n",
       "      <td>Auditado</td>\n",
       "      <td>Auditado</td>\n",
       "      <td>Auditado</td>\n",
       "      <td>Auditado</td>\n",
       "      <td>Auditado</td>\n",
       "    </tr>\n",
       "    <tr>\n",
       "      <th>79</th>\n",
       "      <td>Fuente</td>\n",
       "      <td>Supersolidaria - Estados Financieros</td>\n",
       "      <td>Supersolidaria - Estados Financieros</td>\n",
       "      <td>Supersolidaria - Estados Financieros</td>\n",
       "      <td>Supersolidaria - Estados Financieros</td>\n",
       "      <td>Supersolidaria - Estados Financieros</td>\n",
       "    </tr>\n",
       "  </tbody>\n",
       "</table>\n",
       "</div>"
      ],
      "text/plain": [
       "12                 Estado de Resultados   \\\n",
       "75  Fecha inicial del periodo de reporte   \n",
       "76               Fecha final del período   \n",
       "77   Unidades originales como se reportó   \n",
       "78                              Auditado   \n",
       "79                                Fuente   \n",
       "\n",
       "12                                 2023   \\\n",
       "75                            2023-01-01   \n",
       "76                            2023-12-31   \n",
       "77                             COP Miles   \n",
       "78                              Auditado   \n",
       "79  Supersolidaria - Estados Financieros   \n",
       "\n",
       "12                                 2022   \\\n",
       "75                            2023-01-01   \n",
       "76                            2023-12-31   \n",
       "77                             COP Miles   \n",
       "78                              Auditado   \n",
       "79  Supersolidaria - Estados Financieros   \n",
       "\n",
       "12                                 2021   \\\n",
       "75                            2021-01-01   \n",
       "76                            2021-12-31   \n",
       "77                             COP Miles   \n",
       "78                              Auditado   \n",
       "79  Supersolidaria - Estados Financieros   \n",
       "\n",
       "12                                 2020                                  2019   \n",
       "75                            2020-01-01                            2019-01-01  \n",
       "76                            2020-12-31                            2019-12-31  \n",
       "77                             COP Miles                             COP Miles  \n",
       "78                              Auditado                              Auditado  \n",
       "79  Supersolidaria - Estados Financieros  Supersolidaria - Estados Financieros  "
      ]
     },
     "execution_count": 4,
     "metadata": {},
     "output_type": "execute_result"
    }
   ],
   "source": [
    "# ahora vamos a gestionar los datos nulos del final de la tabla\n",
    "# en este caso, eliminaremos las filas para las cuales\n",
    "# todos los años sean NA\n",
    "df = df.dropna(subset = ['2023 ', '2022 ', '2021 ', \n",
    "                        '2020 ', '2019 '], how = 'all')\n",
    "# revisamos la información\n",
    "df.tail()"
   ]
  },
  {
   "cell_type": "code",
   "execution_count": 5,
   "id": "5f92ffa9",
   "metadata": {},
   "outputs": [
    {
     "data": {
      "text/html": [
       "<div>\n",
       "<style scoped>\n",
       "    .dataframe tbody tr th:only-of-type {\n",
       "        vertical-align: middle;\n",
       "    }\n",
       "\n",
       "    .dataframe tbody tr th {\n",
       "        vertical-align: top;\n",
       "    }\n",
       "\n",
       "    .dataframe thead th {\n",
       "        text-align: right;\n",
       "    }\n",
       "</style>\n",
       "<table border=\"1\" class=\"dataframe\">\n",
       "  <thead>\n",
       "    <tr style=\"text-align: right;\">\n",
       "      <th>12</th>\n",
       "      <th>Estado de Resultados</th>\n",
       "      <th>2023</th>\n",
       "      <th>2022</th>\n",
       "      <th>2021</th>\n",
       "      <th>2020</th>\n",
       "      <th>2019</th>\n",
       "    </tr>\n",
       "  </thead>\n",
       "  <tbody>\n",
       "    <tr>\n",
       "      <th>0</th>\n",
       "      <td>Total Ingreso Operativo</td>\n",
       "      <td>3755772.14</td>\n",
       "      <td>3453647.73</td>\n",
       "      <td>2912991.31</td>\n",
       "      <td>2511670.71</td>\n",
       "      <td>2313764.88</td>\n",
       "    </tr>\n",
       "    <tr>\n",
       "      <th>1</th>\n",
       "      <td>Ingresos netos por ventas</td>\n",
       "      <td>3723244.41</td>\n",
       "      <td>3408406.47</td>\n",
       "      <td>2894139.51</td>\n",
       "      <td>2473327.16</td>\n",
       "      <td>2292774.79</td>\n",
       "    </tr>\n",
       "    <tr>\n",
       "      <th>2</th>\n",
       "      <td>Costo de mercancías vendidas</td>\n",
       "      <td>-3136435.64</td>\n",
       "      <td>-2959235.79</td>\n",
       "      <td>-2496743.97</td>\n",
       "      <td>-2111472.35</td>\n",
       "      <td>-1931891.42</td>\n",
       "    </tr>\n",
       "    <tr>\n",
       "      <th>3</th>\n",
       "      <td>Utilidad bruta</td>\n",
       "      <td>586808.77</td>\n",
       "      <td>449170.68</td>\n",
       "      <td>397395.54</td>\n",
       "      <td>361854.81</td>\n",
       "      <td>360883.37</td>\n",
       "    </tr>\n",
       "    <tr>\n",
       "      <th>4</th>\n",
       "      <td>Gastos de venta y distribución</td>\n",
       "      <td>-429894.63</td>\n",
       "      <td>-364396.83</td>\n",
       "      <td>-335402.85</td>\n",
       "      <td>-312912.94</td>\n",
       "      <td>-298610.74</td>\n",
       "    </tr>\n",
       "  </tbody>\n",
       "</table>\n",
       "</div>"
      ],
      "text/plain": [
       "12                   Estado de Resultados        2023        2022   \\\n",
       "0                  Total Ingreso Operativo  3755772.14  3453647.73   \n",
       "1                Ingresos netos por ventas  3723244.41  3408406.47   \n",
       "2             Costo de mercancías vendidas -3136435.64 -2959235.79   \n",
       "3                           Utilidad bruta   586808.77   449170.68   \n",
       "4           Gastos de venta y distribución  -429894.63  -364396.83   \n",
       "\n",
       "12       2021        2020        2019   \n",
       "0   2912991.31  2511670.71  2313764.88  \n",
       "1   2894139.51  2473327.16  2292774.79  \n",
       "2  -2496743.97 -2111472.35 -1931891.42  \n",
       "3    397395.54   361854.81   360883.37  \n",
       "4   -335402.85  -312912.94  -298610.74  "
      ]
     },
     "execution_count": 5,
     "metadata": {},
     "output_type": "execute_result"
    }
   ],
   "source": [
    "# Vamos a resetear el índice\n",
    "df.reset_index(drop = True, inplace = True)\n",
    "\n",
    "# Visualizamos los cambios\n",
    "df.head()"
   ]
  },
  {
   "cell_type": "code",
   "execution_count": 6,
   "id": "3f43198a",
   "metadata": {},
   "outputs": [],
   "source": [
    "# Para el análisis calcularemos varias métricas\n",
    "# 1. Variación de la utilidad bruta del 2022 y el 2023\n",
    "\n",
    "utilidad_2023 = df[df['Estado de Resultados '].\\\n",
    "                   str.contains('utilidad bruta', case = False)]['2023 '].values[0]\n",
    "utilidad_2022 = df[df['Estado de Resultados '].\\\n",
    "                  str.contains('utilidad bruta', case = False)]['2022 '].values[0]"
   ]
  },
  {
   "cell_type": "code",
   "execution_count": 7,
   "id": "d38bdcb3",
   "metadata": {},
   "outputs": [
    {
     "name": "stdout",
     "output_type": "stream",
     "text": [
      "La variación de la utilidad bruta entre  2023 y 2022 es de COP$137638.09000000003\n"
     ]
    }
   ],
   "source": [
    "variacion = utilidad_2023 - utilidad_2022\n",
    "print(f\"La variación de la utilidad bruta entre  2023 y 2022 es de COP${variacion}\")"
   ]
  },
  {
   "cell_type": "code",
   "execution_count": 8,
   "id": "6b8ab707",
   "metadata": {},
   "outputs": [],
   "source": [
    "# 2. Graficamos la Utilidad bruta para todos los años\n",
    "utilidad = df[df['Estado de Resultados '].str.contains('utilidad bruta',\n",
    "                                                      case = False)].iloc[0,1:]"
   ]
  },
  {
   "cell_type": "code",
   "execution_count": 9,
   "id": "85da55a6",
   "metadata": {},
   "outputs": [
    {
     "data": {
      "image/png": "[encoded data removed]",
      "text/plain": [
       "<Figure size 600x300 with 1 Axes>"
      ]
     },
     "metadata": {},
     "output_type": "display_data"
    }
   ],
   "source": [
    "# Cambiamos el tamaño de la figura\n",
    "plt.figure(figsize = (6,3))\n",
    "plt.plot(utilidad.index, utilidad.values, marker = \"s\", color =  \"green\")\n",
    "plt.title('Evolución de la Utilidad Bruta')\n",
    "plt.xlabel('Año')\n",
    "plt.ylabel(' Millones COP$')\n",
    "plt.grid(True)\n",
    "plt.show()"
   ]
  },
  {
   "cell_type": "code",
   "execution_count": 10,
   "id": "36c0f215",
   "metadata": {},
   "outputs": [],
   "source": [
    "# 3. Graficamos los ingresos  y  la utilidad bruta \n",
    "\n",
    "ingresos = df[df[\"Estado de Resultados \"].\\\n",
    "              str.contains(\"Ingreso operativo\", case = False)].iloc[0,1:]"
   ]
  },
  {
   "cell_type": "code",
   "execution_count": 11,
   "id": "8329d566",
   "metadata": {},
   "outputs": [
    {
     "data": {
      "image/png": "[encoded data removed]",
      "text/plain": [
       "<Figure size 600x300 with 1 Axes>"
      ]
     },
     "metadata": {},
     "output_type": "display_data"
    }
   ],
   "source": [
    "# Cambiamos el tamaño de la figura\n",
    "plt.figure(figsize = (6,3))\n",
    "plt.plot(utilidad.index, utilidad.values, marker = \"s\", color =  \"green\",\n",
    "        label = \"Utilidad bruta\")\n",
    "plt.plot(ingresos.index, ingresos.values, marker = \"o\", color = \"lightgreen\",\n",
    "        label = \"Ingresos operativos\")\n",
    "plt.title('Utilidad bruta vs Ingresos operativos')\n",
    "plt.xlabel('Año')\n",
    "plt.ylabel(' Millones COP$')\n",
    "plt.legend()\n",
    "plt.grid(True)\n",
    "plt.show()"
   ]
  },
  {
   "cell_type": "code",
   "execution_count": 12,
   "id": "156b6731",
   "metadata": {},
   "outputs": [],
   "source": [
    "# 4. Utilidad bruta vs utilidad neta\n",
    "neta = df[df['Estado de Resultados '].\\\n",
    "              str.contains('neta', case = False)].iloc[0,1:]"
   ]
  },
  {
   "cell_type": "code",
   "execution_count": 13,
   "id": "5e8113b7",
   "metadata": {},
   "outputs": [
    {
     "data": {
      "image/png": "[encoded data removed]",
      "text/plain": [
       "<Figure size 600x300 with 1 Axes>"
      ]
     },
     "metadata": {},
     "output_type": "display_data"
    }
   ],
   "source": [
    "# Cambiamos el tamaño de la figura\n",
    "plt.figure(figsize = (6,3))\n",
    "plt.plot(utilidad.index, utilidad.values, marker = \"s\", color =  \"green\",\n",
    "        label = \"Utilidad bruta\")\n",
    "plt.plot(neta.index, neta.values, marker = \"o\", color = \"red\",\n",
    "        label = \"Utilidad neta\")\n",
    "plt.title('Utilidad bruta vs Utilidad neta')\n",
    "plt.xlabel('Año')\n",
    "plt.ylabel('Millones COP$')\n",
    "plt.legend()\n",
    "plt.grid(True)\n",
    "plt.show()"
   ]
  },
  {
   "cell_type": "code",
   "execution_count": 14,
   "id": "07361724",
   "metadata": {},
   "outputs": [],
   "source": [
    "# 5. Calculamos la rentabilidad para cada uno de los años\n",
    "# Creamos una tabla vacía\n",
    "rentabilidad = pd.DataFrame()\n",
    "\n",
    "# Recorremos todos los años con un ciclo para\n",
    "# calcular la rentabilidad para cada uno ellos\n",
    "for año in ['2023 ', '2022 ', '2021 ', '2020 ', '2019 ']:\n",
    "    utilidad = df[df['Estado de Resultados '].str.contains('utilidad bruta',\n",
    "                                                      case = False)][año].values[0]\n",
    "    ingresos = df[df['Estado de Resultados '].str.contains('ingresos',\n",
    "                                                      case = False)][año].values[0]\n",
    "    neta = df[df['Estado de Resultados '].str.contains('neta',\n",
    "                                                      case = False)][año].values[0]\n",
    "    rentabilidad.loc['Rentabilidad', año] = utilidad/ingresos\n",
    "    rentabilidad.loc['Margen Bruto', año] = neta/ingresos\n"
   ]
  },
  {
   "cell_type": "code",
   "execution_count": 15,
   "id": "749b89b9",
   "metadata": {},
   "outputs": [
    {
     "data": {
      "text/html": [
       "<div>\n",
       "<style scoped>\n",
       "    .dataframe tbody tr th:only-of-type {\n",
       "        vertical-align: middle;\n",
       "    }\n",
       "\n",
       "    .dataframe tbody tr th {\n",
       "        vertical-align: top;\n",
       "    }\n",
       "\n",
       "    .dataframe thead th {\n",
       "        text-align: right;\n",
       "    }\n",
       "</style>\n",
       "<table border=\"1\" class=\"dataframe\">\n",
       "  <thead>\n",
       "    <tr style=\"text-align: right;\">\n",
       "      <th></th>\n",
       "      <th>2023</th>\n",
       "      <th>2022</th>\n",
       "      <th>2021</th>\n",
       "      <th>2020</th>\n",
       "      <th>2019</th>\n",
       "    </tr>\n",
       "  </thead>\n",
       "  <tbody>\n",
       "    <tr>\n",
       "      <th>Rentabilidad</th>\n",
       "      <td>0.157607</td>\n",
       "      <td>0.131783</td>\n",
       "      <td>0.137310</td>\n",
       "      <td>0.146303</td>\n",
       "      <td>0.157400</td>\n",
       "    </tr>\n",
       "    <tr>\n",
       "      <th>Margen Bruto</th>\n",
       "      <td>0.001629</td>\n",
       "      <td>0.001469</td>\n",
       "      <td>0.000863</td>\n",
       "      <td>0.004112</td>\n",
       "      <td>0.004223</td>\n",
       "    </tr>\n",
       "  </tbody>\n",
       "</table>\n",
       "</div>"
      ],
      "text/plain": [
       "                 2023      2022      2021      2020      2019 \n",
       "Rentabilidad  0.157607  0.131783  0.137310  0.146303  0.157400\n",
       "Margen Bruto  0.001629  0.001469  0.000863  0.004112  0.004223"
      ]
     },
     "execution_count": 15,
     "metadata": {},
     "output_type": "execute_result"
    }
   ],
   "source": [
    "rentabilidad"
   ]
  },
  {
   "cell_type": "code",
   "execution_count": 16,
   "id": "c0287d9f",
   "metadata": {},
   "outputs": [],
   "source": [
    "# Realizamos un diagrama de barras vertical para comparar las \n",
    "# diferentes cuentas relacionadas con los gastos\n",
    "\n",
    "# Primero identificamos los gastos\n",
    "gastos = df[df['Estado de Resultados '].str.contains('gasto', \n",
    "                                                     case = False)]"
   ]
  },
  {
   "cell_type": "code",
   "execution_count": 17,
   "id": "e91a4d35",
   "metadata": {},
   "outputs": [],
   "source": [
    "# Segundo fijamos el índice para que cada fila\n",
    "# se identifique con el nombre de la cuenta\n",
    "gastos.set_index('Estado de Resultados ', inplace = True)"
   ]
  },
  {
   "cell_type": "code",
   "execution_count": 18,
   "id": "50c3032b",
   "metadata": {},
   "outputs": [],
   "source": [
    "# Totalizamos los gastos que corresponden al periodo 2023\n",
    "total_gastos = gastos.loc[:, '2023 '].sum()"
   ]
  },
  {
   "cell_type": "code",
   "execution_count": 19,
   "id": "9cab0775",
   "metadata": {},
   "outputs": [],
   "source": [
    "# Calculamos la participación de cada cuenta en el total del\n",
    "# periodo\n",
    "participacion = (gastos['2023 ']/total_gastos)*100"
   ]
  },
  {
   "cell_type": "code",
   "execution_count": 20,
   "id": "aff36c85",
   "metadata": {},
   "outputs": [
    {
     "data": {
      "image/png": "[encoded data removed]",
      "text/plain": [
       "<Figure size 640x480 with 1 Axes>"
      ]
     },
     "metadata": {},
     "output_type": "display_data"
    }
   ],
   "source": [
    "# Ordenamos los valores y graficamos\n",
    "participacion.sort_values(ascending = False).plot(kind = 'barh',\n",
    "                                                 color = 'black');"
   ]
  },
  {
   "cell_type": "code",
   "execution_count": 21,
   "id": "42ea8703",
   "metadata": {},
   "outputs": [],
   "source": [
    "# Vamos a categorizar las cuentas de acuerdo a si \n",
    "# son ingresos, costos, gastos y utilidades\n",
    "\n",
    "# Hacemos una función que resuma las cuentas\n",
    "\n",
    "def clasificar(cuenta):\n",
    "    # primero llevamos el nombre de la cuenta a minúsculas\n",
    "    cuenta = cuenta.lower()\n",
    "    # evaluamos los posibles casos\n",
    "    if 'ingreso' in cuenta:\n",
    "        return 'Ingresos'\n",
    "    elif 'costo' in cuenta:\n",
    "        return 'Costos'\n",
    "    elif 'gasto' in cuenta:\n",
    "        return 'Gastos'\n",
    "    elif 'utilidad' in cuenta:\n",
    "        return 'Resultado'\n",
    "    else:\n",
    "        return 'Otros'\n",
    "    "
   ]
  },
  {
   "cell_type": "code",
   "execution_count": 22,
   "id": "a09e6413",
   "metadata": {},
   "outputs": [],
   "source": [
    "# Creamos la columna Categoría\n",
    "df['Categoría'] = df['Estado de Resultados '].apply(clasificar)"
   ]
  },
  {
   "cell_type": "code",
   "execution_count": 23,
   "id": "ec936332",
   "metadata": {},
   "outputs": [],
   "source": [
    "datos = df[['Estado de Resultados ', 'Categoría', '2023 ', '2022 ', '2021 ']]"
   ]
  },
  {
   "cell_type": "code",
   "execution_count": 24,
   "id": "89ecfd5f",
   "metadata": {},
   "outputs": [],
   "source": [
    "# Debemos conservar solo hasta la fila 56\n",
    "datos = datos[:57]"
   ]
  },
  {
   "cell_type": "code",
   "execution_count": 25,
   "id": "336e27ce",
   "metadata": {},
   "outputs": [
    {
     "data": {
      "text/html": [
       "<div>\n",
       "<style scoped>\n",
       "    .dataframe tbody tr th:only-of-type {\n",
       "        vertical-align: middle;\n",
       "    }\n",
       "\n",
       "    .dataframe tbody tr th {\n",
       "        vertical-align: top;\n",
       "    }\n",
       "\n",
       "    .dataframe thead th {\n",
       "        text-align: right;\n",
       "    }\n",
       "</style>\n",
       "<table border=\"1\" class=\"dataframe\">\n",
       "  <thead>\n",
       "    <tr style=\"text-align: right;\">\n",
       "      <th>12</th>\n",
       "      <th>Estado de Resultados</th>\n",
       "      <th>Categoría</th>\n",
       "      <th>2023</th>\n",
       "      <th>2022</th>\n",
       "      <th>2021</th>\n",
       "    </tr>\n",
       "  </thead>\n",
       "  <tbody>\n",
       "    <tr>\n",
       "      <th>17</th>\n",
       "      <td>Balance General</td>\n",
       "      <td>Otros</td>\n",
       "      <td>2023</td>\n",
       "      <td>2022</td>\n",
       "      <td>2021</td>\n",
       "    </tr>\n",
       "  </tbody>\n",
       "</table>\n",
       "</div>"
      ],
      "text/plain": [
       "12 Estado de Resultados  Categoría  2023   2022   2021 \n",
       "17      Balance General      Otros  2023   2022   2021 "
      ]
     },
     "execution_count": 25,
     "metadata": {},
     "output_type": "execute_result"
    }
   ],
   "source": [
    "datos[datos['Estado de Resultados '] == 'Balance General ']"
   ]
  },
  {
   "cell_type": "code",
   "execution_count": 26,
   "id": "edc7f55d",
   "metadata": {},
   "outputs": [],
   "source": [
    "# Debemos eliminar la fila 17\n",
    "datos.drop(17, axis = 0, inplace = True)"
   ]
  },
  {
   "cell_type": "code",
   "execution_count": 27,
   "id": "a0250251",
   "metadata": {},
   "outputs": [
    {
     "name": "stdout",
     "output_type": "stream",
     "text": [
      "<class 'pandas.core.frame.DataFrame'>\n",
      "Index: 56 entries, 0 to 56\n",
      "Data columns (total 5 columns):\n",
      " #   Column                 Non-Null Count  Dtype \n",
      "---  ------                 --------------  ----- \n",
      " 0   Estado de Resultados   56 non-null     object\n",
      " 1   Categoría              56 non-null     object\n",
      " 2   2023                   56 non-null     object\n",
      " 3   2022                   56 non-null     object\n",
      " 4   2021                   56 non-null     object\n",
      "dtypes: object(5)\n",
      "memory usage: 2.6+ KB\n"
     ]
    }
   ],
   "source": [
    "datos.info()"
   ]
  },
  {
   "cell_type": "code",
   "execution_count": 28,
   "id": "d9c5f432",
   "metadata": {},
   "outputs": [],
   "source": [
    "# Ahora utilizamos la nueva columna para agrupar por categoría\n",
    "# los valores por periodo\n",
    "resultados = datos.groupby('Categoría')[['2023 ', '2022 ', '2021 ']].sum()"
   ]
  },
  {
   "cell_type": "code",
   "execution_count": 48,
   "id": "7618951f",
   "metadata": {},
   "outputs": [],
   "source": [
    "resultados_numericos = resultados.apply(pd.to_numeric, errors='coerce')\n"
   ]
  },
  {
   "cell_type": "code",
   "execution_count": 49,
   "id": "fd9d9e0c",
   "metadata": {},
   "outputs": [
    {
     "data": {
      "text/html": [
       "<div>\n",
       "<style scoped>\n",
       "    .dataframe tbody tr th:only-of-type {\n",
       "        vertical-align: middle;\n",
       "    }\n",
       "\n",
       "    .dataframe tbody tr th {\n",
       "        vertical-align: top;\n",
       "    }\n",
       "\n",
       "    .dataframe thead th {\n",
       "        text-align: right;\n",
       "    }\n",
       "</style>\n",
       "<table border=\"1\" class=\"dataframe\">\n",
       "  <thead>\n",
       "    <tr style=\"text-align: right;\">\n",
       "      <th>12</th>\n",
       "      <th>2023</th>\n",
       "      <th>2022</th>\n",
       "      <th>2021</th>\n",
       "    </tr>\n",
       "    <tr>\n",
       "      <th>Categoría</th>\n",
       "      <th></th>\n",
       "      <th></th>\n",
       "      <th></th>\n",
       "    </tr>\n",
       "  </thead>\n",
       "  <tbody>\n",
       "    <tr>\n",
       "      <th>Costos</th>\n",
       "      <td>-3136435.64</td>\n",
       "      <td>-2959235.79</td>\n",
       "      <td>-2496743.97</td>\n",
       "    </tr>\n",
       "    <tr>\n",
       "      <th>Gastos</th>\n",
       "      <td>-687871.29</td>\n",
       "      <td>-511831.77</td>\n",
       "      <td>-413553.10</td>\n",
       "    </tr>\n",
       "    <tr>\n",
       "      <th>Ingresos</th>\n",
       "      <td>7511544.29</td>\n",
       "      <td>6907295.45</td>\n",
       "      <td>5825997.13</td>\n",
       "    </tr>\n",
       "    <tr>\n",
       "      <th>Otros</th>\n",
       "      <td>14717719.01</td>\n",
       "      <td>13397678.34</td>\n",
       "      <td>12425142.55</td>\n",
       "    </tr>\n",
       "    <tr>\n",
       "      <th>Resultado</th>\n",
       "      <td>586808.77</td>\n",
       "      <td>449170.68</td>\n",
       "      <td>397395.54</td>\n",
       "    </tr>\n",
       "  </tbody>\n",
       "</table>\n",
       "</div>"
      ],
      "text/plain": [
       "12               2023         2022         2021 \n",
       "Categoría                                       \n",
       "Costos     -3136435.64  -2959235.79  -2496743.97\n",
       "Gastos      -687871.29   -511831.77   -413553.10\n",
       "Ingresos    7511544.29   6907295.45   5825997.13\n",
       "Otros      14717719.01  13397678.34  12425142.55\n",
       "Resultado    586808.77    449170.68    397395.54"
      ]
     },
     "execution_count": 49,
     "metadata": {},
     "output_type": "execute_result"
    }
   ],
   "source": [
    "resultados_numericos"
   ]
  },
  {
   "cell_type": "code",
   "execution_count": 53,
   "id": "8264b1a8",
   "metadata": {},
   "outputs": [
    {
     "data": {
      "text/plain": [
       "'2023 '"
      ]
     },
     "execution_count": 53,
     "metadata": {},
     "output_type": "execute_result"
    }
   ],
   "source": [
    "resultados_numericos.loc['Resultado', :].idxmax()"
   ]
  }
 ],
 "metadata": {
  "kernelspec": {
   "display_name": "Python 3 (ipykernel)",
   "language": "python",
   "name": "python3"
  },
  "language_info": {
   "codemirror_mode": {
    "name": "ipython",
    "version": 3
   },
   "file_extension": ".py",
   "mimetype": "text/x-python",
   "name": "python",
   "nbconvert_exporter": "python",
   "pygments_lexer": "ipython3",
   "version": "3.11.5"
  }
 },
 "nbformat": 4,
 "nbformat_minor": 5
}
